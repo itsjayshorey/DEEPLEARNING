{
 "cells": [
  {
   "cell_type": "code",
   "execution_count": 1,
   "metadata": {},
   "outputs": [],
   "source": [
    "import pandas as pd"
   ]
  },
  {
   "cell_type": "code",
   "execution_count": 2,
   "metadata": {},
   "outputs": [],
   "source": [
    "import tensorflow as tf"
   ]
  },
  {
   "cell_type": "code",
   "execution_count": 3,
   "metadata": {},
   "outputs": [
    {
     "name": "stdout",
     "output_type": "stream",
     "text": [
      "Downloading data from https://storage.googleapis.com/tensorflow/tf-keras-datasets/mnist.npz\n",
      "\u001b[1m11490434/11490434\u001b[0m \u001b[32m━━━━━━━━━━━━━━━━━━━━\u001b[0m\u001b[37m\u001b[0m \u001b[1m2s\u001b[0m 0us/step\n"
     ]
    }
   ],
   "source": [
    "mnist = tf.keras.datasets.mnist # Load the MNIST dataset 28x28 images of handwritten digits 0-9\n",
    "(x_train, y_train), (x_test, y_test) = mnist.load_data()\n",
    "# Normalize the images to the range [0, 1]"
   ]
  },
  {
   "cell_type": "code",
   "execution_count": 6,
   "metadata": {},
   "outputs": [
    {
     "data": {
      "image/png": "[encoded data removed]",
      "text/plain": [
       "<Figure size 640x480 with 1 Axes>"
      ]
     },
     "metadata": {},
     "output_type": "display_data"
    }
   ],
   "source": [
    "import matplotlib.pyplot as plt\n",
    "# print(x_train[0])\n",
    "plt.imshow(x_train[0], cmap='gray')\n",
    "plt.show()\n",
    "x_train = tf.keras.utils.normalize(x_train, axis=1)\n",
    "x_test = tf.keras.utils.normalize(x_test, axis=1)\n",
    "# Reshape the data to add a channel dimension"
   ]
  },
  {
   "cell_type": "code",
   "execution_count": 7,
   "metadata": {},
   "outputs": [
    {
     "name": "stderr",
     "output_type": "stream",
     "text": [
      "C:\\Users\\itsja\\AppData\\Local\\Packages\\PythonSoftwareFoundation.Python.3.11_qbz5n2kfra8p0\\LocalCache\\local-packages\\Python311\\site-packages\\keras\\src\\layers\\reshaping\\flatten.py:37: UserWarning: Do not pass an `input_shape`/`input_dim` argument to a layer. When using Sequential models, prefer using an `Input(shape)` object as the first layer in the model instead.\n",
      "  super().__init__(**kwargs)\n"
     ]
    },
    {
     "name": "stdout",
     "output_type": "stream",
     "text": [
      "Epoch 1/3\n",
      "\u001b[1m1875/1875\u001b[0m \u001b[32m━━━━━━━━━━━━━━━━━━━━\u001b[0m\u001b[37m\u001b[0m \u001b[1m7s\u001b[0m 4ms/step - accuracy: 0.8708 - loss: 0.4615\n",
      "Epoch 2/3\n",
      "\u001b[1m1875/1875\u001b[0m \u001b[32m━━━━━━━━━━━━━━━━━━━━\u001b[0m\u001b[37m\u001b[0m \u001b[1m7s\u001b[0m 3ms/step - accuracy: 0.9662 - loss: 0.1111\n",
      "Epoch 3/3\n",
      "\u001b[1m1875/1875\u001b[0m \u001b[32m━━━━━━━━━━━━━━━━━━━━\u001b[0m\u001b[37m\u001b[0m \u001b[1m7s\u001b[0m 3ms/step - accuracy: 0.9776 - loss: 0.0706\n"
     ]
    },
    {
     "data": {
      "text/plain": [
       "<keras.src.callbacks.history.History at 0x1dd7a2ff610>"
      ]
     },
     "execution_count": 7,
     "metadata": {},
     "output_type": "execute_result"
    }
   ],
   "source": [
    "model = tf.keras.models.Sequential()\n",
    "model.add(tf.keras.layers.Flatten(input_shape=(28, 28))) # Flatten the 28x28 images into a 784-dimensional vector\n",
    "model.add(tf.keras.layers.Dense(128, activation=tf.nn.relu)) # Add a fully connected layer with 128 neurons and ReLU activation\n",
    "model.add(tf.keras.layers.Dense(128, activation=tf.nn.relu)) # Add another fully connected layer with 128 neurons and ReLU activation\n",
    "model.add(tf.keras.layers.Dense(10, activation=tf.nn.softmax)) # Add the output layer with 10 neurons (one for each digit) and softmax activation\n",
    "\n",
    "\n",
    "model.compile(optimizer='adam', loss='sparse_categorical_crossentropy', metrics=['accuracy']) # Compile the model with Adam optimizer and sparse categorical crossentropy loss\n",
    "model.fit(x_train, y_train, epochs=3) # Train the model for 3 epochs"
   ]
  },
  {
   "cell_type": "code",
   "execution_count": 8,
   "metadata": {},
   "outputs": [
    {
     "name": "stdout",
     "output_type": "stream",
     "text": [
      "\u001b[1m313/313\u001b[0m \u001b[32m━━━━━━━━━━━━━━━━━━━━\u001b[0m\u001b[37m\u001b[0m \u001b[1m1s\u001b[0m 2ms/step - accuracy: 0.9672 - loss: 0.1078\n",
      "0.0946464017033577 0.9707000255584717\n"
     ]
    }
   ],
   "source": [
    "val_loss, val_acc = model.evaluate(x_test, y_test) # Evaluate the model on the test set\n",
    "print(val_loss, val_acc) # Print the validation loss and accuracy"
   ]
  },
  {
   "cell_type": "code",
   "execution_count": 11,
   "metadata": {},
   "outputs": [],
   "source": [
    "model.save('epic_nim_reader.model.keras') # Save the trained model to a file"
   ]
  },
  {
   "cell_type": "code",
   "execution_count": 13,
   "metadata": {},
   "outputs": [
    {
     "name": "stdout",
     "output_type": "stream",
     "text": [
      "\u001b[1m313/313\u001b[0m \u001b[32m━━━━━━━━━━━━━━━━━━━━\u001b[0m\u001b[37m\u001b[0m \u001b[1m1s\u001b[0m 2ms/step\n",
      "7\n"
     ]
    }
   ],
   "source": [
    "import numpy as np\n",
    "predictions = model.predict(x_test) # Make predictions on the test set\n",
    "print(np.argmax(predictions[0])) # Print the predicted class for the first test image"
   ]
  },
  {
   "cell_type": "code",
   "execution_count": 14,
   "metadata": {},
   "outputs": [
    {
     "name": "stdout",
     "output_type": "stream",
     "text": [
      "Epoch 1/5, Loss: 2.3027218473560525\n",
      "Epoch 2/5, Loss: 2.3027011844659904\n",
      "Epoch 3/5, Loss: 2.3026805288757477\n",
      "Epoch 4/5, Loss: 2.3026598801938287\n",
      "Epoch 5/5, Loss: 2.302639238606818\n",
      "Test Accuracy: 0.1242\n"
     ]
    }
   ],
   "source": [
    "import numpy as np\n",
    "import pandas as pd\n",
    "\n",
    "# Flatten the input data\n",
    "x_train_flat = x_train.reshape(x_train.shape[0], -1)  # Flatten 28x28 images into 784-dimensional vectors\n",
    "x_test_flat = x_test.reshape(x_test.shape[0], -1)\n",
    "\n",
    "# Initialize weights and biases\n",
    "input_size = 784  # Number of input features\n",
    "hidden_size = 128  # Number of neurons in the hidden layer\n",
    "output_size = 10  # Number of output classes\n",
    "\n",
    "np.random.seed(42)\n",
    "weights_input_hidden = np.random.randn(input_size, hidden_size) * 0.01\n",
    "bias_hidden = np.zeros((1, hidden_size))\n",
    "weights_hidden_output = np.random.randn(hidden_size, output_size) * 0.01\n",
    "bias_output = np.zeros((1, output_size))\n",
    "\n",
    "# Activation functions\n",
    "def relu(x):\n",
    "    return np.maximum(0, x)\n",
    "\n",
    "def relu_derivative(x):\n",
    "    return (x > 0).astype(float)\n",
    "\n",
    "def softmax(x):\n",
    "    exp_x = np.exp(x - np.max(x, axis=1, keepdims=True))\n",
    "    return exp_x / np.sum(exp_x, axis=1, keepdims=True)\n",
    "\n",
    "# One-hot encode the labels\n",
    "y_train_one_hot = np.eye(output_size)[y_train]\n",
    "y_test_one_hot = np.eye(output_size)[y_test]\n",
    "\n",
    "# Training parameters\n",
    "learning_rate = 0.01\n",
    "epochs = 5\n",
    "\n",
    "# Training loop\n",
    "for epoch in range(epochs):\n",
    "    # Forward pass\n",
    "    hidden_layer_input = np.dot(x_train_flat, weights_input_hidden) + bias_hidden\n",
    "    hidden_layer_output = relu(hidden_layer_input)\n",
    "    output_layer_input = np.dot(hidden_layer_output, weights_hidden_output) + bias_output\n",
    "    predictions = softmax(output_layer_input)\n",
    "\n",
    "    # Compute loss (categorical cross-entropy)\n",
    "    loss = -np.mean(np.sum(y_train_one_hot * np.log(predictions + 1e-8), axis=1))\n",
    "    print(f\"Epoch {epoch + 1}/{epochs}, Loss: {loss}\")\n",
    "\n",
    "    # Backward pass\n",
    "    output_error = predictions - y_train_one_hot\n",
    "    hidden_error = np.dot(output_error, weights_hidden_output.T) * relu_derivative(hidden_layer_input)\n",
    "\n",
    "    # Update weights and biases\n",
    "    weights_hidden_output -= learning_rate * np.dot(hidden_layer_output.T, output_error) / x_train_flat.shape[0]\n",
    "    bias_output -= learning_rate * np.sum(output_error, axis=0, keepdims=True) / x_train_flat.shape[0]\n",
    "    weights_input_hidden -= learning_rate * np.dot(x_train_flat.T, hidden_error) / x_train_flat.shape[0]\n",
    "    bias_hidden -= learning_rate * np.sum(hidden_error, axis=0, keepdims=True) / x_train_flat.shape[0]\n",
    "\n",
    "# Evaluate the model\n",
    "hidden_layer_input = np.dot(x_test_flat, weights_input_hidden) + bias_hidden\n",
    "hidden_layer_output = relu(hidden_layer_input)\n",
    "output_layer_input = np.dot(hidden_layer_output, weights_hidden_output) + bias_output\n",
    "predictions = softmax(output_layer_input)\n",
    "\n",
    "accuracy = np.mean(np.argmax(predictions, axis=1) == y_test)\n",
    "print(f\"Test Accuracy: {accuracy}\")"
   ]
  },
  {
   "cell_type": "code",
   "execution_count": 15,
   "metadata": {},
   "outputs": [
    {
     "name": "stdout",
     "output_type": "stream",
     "text": [
      "\u001b[1m1/1\u001b[0m \u001b[32m━━━━━━━━━━━━━━━━━━━━\u001b[0m\u001b[37m\u001b[0m \u001b[1m0s\u001b[0m 45ms/step\n",
      "Predicted classes: [np.int64(7), np.int64(2), np.int64(1), np.int64(0), np.int64(4)]\n",
      "Actual classes: [7 2 1 0 4]\n"
     ]
    }
   ],
   "source": [
    "# Predict the class probabilities for the first 5 test samples\n",
    "predicted_classes = model.predict(x_test[:5])\n",
    "# Print the predicted classes\n",
    "print(\"Predicted classes:\", [np.argmax(pred) for pred in predicted_classes])\n",
    "# Print the actual classes\n",
    "print(\"Actual classes:\", y_test[:5])"
   ]
  },
  {
   "cell_type": "code",
   "execution_count": null,
   "metadata": {},
   "outputs": [],
   "source": []
  }
 ],
 "metadata": {
  "kernelspec": {
   "display_name": "Python 3",
   "language": "python",
   "name": "python3"
  },
  "language_info": {
   "codemirror_mode": {
    "name": "ipython",
    "version": 3
   },
   "file_extension": ".py",
   "mimetype": "text/x-python",
   "name": "python",
   "nbconvert_exporter": "python",
   "pygments_lexer": "ipython3",
   "version": "3.11.9"
  }
 },
 "nbformat": 4,
 "nbformat_minor": 2
}
